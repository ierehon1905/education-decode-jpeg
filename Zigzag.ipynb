{
 "cells": [
  {
   "cell_type": "code",
   "execution_count": 45,
   "metadata": {
    "scrolled": false
   },
   "outputs": [
    {
     "name": "stdout",
     "output_type": "stream",
     "text": [
      "To zigzag (Что в расчетах используется)\n",
      "[2, 0, 3, 0, 0, 0, 0, 0]\n",
      "[0, 1, 2, 0, 0, 0, 0, 0]\n",
      "[0, -1, -1, 0, 0, 0, 0, 0]\n",
      "[1, 0, 0, 0, 0, 0, 0, 0]\n",
      "[0, 0, 0, 0, 0, 0, 0, 0]\n",
      "[0, 0, 0, 0, 0, 0, 0, 0]\n",
      "[0, 0, 0, 0, 0, 0, 0, 0]\n",
      "[0, 0, 0, 0, 0, 0, 0, 0]\n",
      "From zigzag (Что в файле в сыром виде)\n",
      "2, 0, 0, 0, 1, 3, 0, 2, \n",
      "-1, 1, 0, 0, -1, 0, 0, 0, \n",
      "0, 0, 0, 0, 0, 0, 0, 0, \n",
      "0, 0, 0, 0, 0, 0, 0, 0, \n",
      "0, 0, 0, 0, 0, 0, 0, 0, \n",
      "0, 0, 0, 0, 0, 0, 0, 0, \n",
      "0, 0, 0, 0, 0, 0, 0, 0, \n",
      "0, 0, 0, 0, 0, 0, 0, 0, \n"
     ]
    }
   ],
   "source": [
    "# Что в расчетах используется\n",
    "from_arr = [2, 0, 3, 0, 0, 0, 0, 0,\n",
    "            0, 1, 2, 0, 0, 0, 0, 0,\n",
    "            0, -1, -1, 0, 0, 0, 0, 0,\n",
    "            1, 0, 0, 0, 0, 0, 0, 0,\n",
    "            0, 0, 0, 0, 0, 0, 0, 0,\n",
    "            0, 0, 0, 0, 0, 0, 0, 0,\n",
    "            0, 0, 0, 0, 0, 0, 0, 0,\n",
    "            0, 0, 0, 0, 0, 0, 0, 0]\n",
    "\n",
    "# Что в файле в сыром виде\n",
    "to_arr = [2, 0, 0, 0, 1, 3, 0, 2,\n",
    "       -1, 1, 0, 0, -1, 0, 0, 0,\n",
    "       0, 0, 0, 0, 0, 0, 0, 0, \n",
    "       0, 0, 0, 0, 0, 0, 0, 0,\n",
    "       0, 0, 0, 0, 0, 0, 0, 0,\n",
    "       0, 0, 0, 0, 0, 0, 0, 0,\n",
    "       0, 0, 0, 0, 0, 0, 0, 0,\n",
    "       0, 0, 0, 0, 0, 0, 0, 0]\n",
    "\n",
    "def from_zigzag_order(arr):\n",
    "    res = []\n",
    "    level = 0\n",
    "    pos = [0,0]\n",
    "    size = int(len(arr)**0.5)\n",
    "#     print(f\"{size=}\")\n",
    "    for i in range(len(arr)):\n",
    "        index = pos[0] + pos[1]*size\n",
    "#         print(f\"{index=}\")\n",
    "        res.append(arr[index])\n",
    "        if (level % 2 == 0 and pos[1] == 0) or (level % 2 == 1 and pos[1]+1 == size):\n",
    "            pos[0] += 1\n",
    "            level += 1\n",
    "        elif (level % 2 == 1 and pos[0] == 0) or (level % 2 == 0 and pos[0]+1 == size):\n",
    "            pos[1] += 1\n",
    "            level += 1\n",
    "        elif level % 2 == 0:\n",
    "            pos[0] += 1\n",
    "            pos[1] -= 1\n",
    "        elif level % 2 == 1:\n",
    "            pos[0] -= 1\n",
    "            pos[1] += 1\n",
    "        else:\n",
    "            print(\"Weird\")\n",
    "    return res\n",
    "\n",
    "def to_zigzag_order(arr):\n",
    "    level = 0\n",
    "    pos = [0,0]\n",
    "    size = int(len(arr)**0.5)\n",
    "    res = [[0 for j in range(size)] for i in range(size)]\n",
    "#     print(f\"{size=}\")\n",
    "    for i in range(len(arr)):\n",
    "        index = pos[0] + pos[1]*size\n",
    "        val = arr[i]\n",
    "        res[pos[1]][pos[0]] = val\n",
    "#         print(f\"{index=}\")\n",
    "#         res.append(arr[index])\n",
    "        if (level % 2 == 0 and pos[1] == 0) or (level % 2 == 1 and pos[1]+1 == size):\n",
    "            pos[0] += 1\n",
    "            level += 1\n",
    "        elif (level % 2 == 1 and pos[0] == 0) or (level % 2 == 0 and pos[0]+1 == size):\n",
    "            pos[1] += 1\n",
    "            level += 1\n",
    "        elif level % 2 == 0:\n",
    "            pos[0] += 1\n",
    "            pos[1] -= 1\n",
    "        elif level % 2 == 1:\n",
    "            pos[0] -= 1\n",
    "            pos[1] += 1\n",
    "        else:\n",
    "            print(\"Weird\")\n",
    "    return res\n",
    "\n",
    "to_zig = to_zigzag_order(to_arr)\n",
    "from_zig = from_zigzag_order(from_arr)\n",
    "\n",
    "print(\"To zigzag (Что в расчетах используется)\")\n",
    "for l in to_zig:\n",
    "    print(l)\n",
    "print(\"From zigzag (Что в файле в сыром виде)\")\n",
    "for i in range(8):\n",
    "    for j in range(8):\n",
    "        print(from_zig[j + i*8], end=\", \")\n",
    "    print('')"
   ]
  },
  {
   "cell_type": "code",
   "execution_count": null,
   "metadata": {},
   "outputs": [],
   "source": []
  },
  {
   "cell_type": "code",
   "execution_count": 36,
   "metadata": {},
   "outputs": [
    {
     "data": {
      "text/plain": [
       "[1, 2, 3, 4, 5]"
      ]
     },
     "execution_count": 36,
     "metadata": {},
     "output_type": "execute_result"
    }
   ],
   "source": [
    "[1,2,3,4,5][0:]"
   ]
  }
 ],
 "metadata": {
  "kernelspec": {
   "display_name": "Python 3",
   "language": "python",
   "name": "python3"
  },
  "language_info": {
   "codemirror_mode": {
    "name": "ipython",
    "version": 3
   },
   "file_extension": ".py",
   "mimetype": "text/x-python",
   "name": "python",
   "nbconvert_exporter": "python",
   "pygments_lexer": "ipython3",
   "version": "3.8.5"
  }
 },
 "nbformat": 4,
 "nbformat_minor": 4
}
